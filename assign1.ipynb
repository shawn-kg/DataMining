{
  "nbformat": 4,
  "nbformat_minor": 0,
  "metadata": {
    "colab": {
      "provenance": [],
      "collapsed_sections": [],
      "authorship_tag": "ABX9TyP+Z0zHiiETDrKAERn312KF",
      "include_colab_link": true
    },
    "kernelspec": {
      "name": "python3",
      "display_name": "Python 3"
    },
    "language_info": {
      "name": "python"
    }
  },
  "cells": [
    {
      "cell_type": "markdown",
      "metadata": {
        "id": "view-in-github",
        "colab_type": "text"
      },
      "source": [
        "<a href=\"https://colab.research.google.com/github/shawn-kg/DataMining/blob/main/assign1.ipynb\" target=\"_parent\"><img src=\"https://colab.research.google.com/assets/colab-badge.svg\" alt=\"Open In Colab\"/></a>"
      ]
    },
    {
      "cell_type": "markdown",
      "source": [
        "# Assign 1: Data Exploration\n",
        "Shawn George"
      ],
      "metadata": {
        "id": "OiMvP37Ud-YM"
      }
    },
    {
      "cell_type": "markdown",
      "source": [
        "# Mean and Total Variance"
      ],
      "metadata": {
        "id": "GWV-QzGHCbO4"
      }
    },
    {
      "cell_type": "code",
      "execution_count": null,
      "metadata": {
        "id": "scC2-c4Pkr7F",
        "colab": {
          "base_uri": "https://localhost:8080/"
        },
        "outputId": "496f5b35-3c08-46a8-e7c3-583a2397b419"
      },
      "outputs": [
        {
          "output_type": "stream",
          "name": "stdout",
          "text": [
            "Mean Vector:\n",
            " n_tokens_title                    10.398749\n",
            " n_tokens_content                 546.514731\n",
            " n_unique_tokens                    0.548216\n",
            " n_non_stop_words                   0.996469\n",
            " n_non_stop_unique_tokens           0.689175\n",
            " num_hrefs                         10.883690\n",
            " num_self_hrefs                     3.293638\n",
            " num_imgs                           4.544143\n",
            " num_videos                         1.249874\n",
            " average_token_length               4.548239\n",
            " num_keywords                       7.223767\n",
            " LDA_00                             0.184599\n",
            " LDA_01                             0.141256\n",
            " LDA_02                             0.216321\n",
            " LDA_03                             0.223770\n",
            " LDA_04                             0.234029\n",
            " global_subjectivity                0.443370\n",
            " global_sentiment_polarity          0.119309\n",
            " global_rate_positive_words         0.039625\n",
            " global_rate_negative_words         0.016612\n",
            " rate_positive_words                0.682150\n",
            " rate_negative_words                0.287934\n",
            " avg_positive_polarity              0.353825\n",
            " min_positive_polarity              0.095446\n",
            " max_positive_polarity              0.756728\n",
            " avg_negative_polarity             -0.259524\n",
            " min_negative_polarity             -0.521944\n",
            " max_negative_polarity             -0.107500\n",
            " title_subjectivity                 0.282353\n",
            " title_sentiment_polarity           0.071425\n",
            " abs_title_subjectivity             0.341843\n",
            " abs_title_sentiment_polarity       0.156064\n",
            " shares                          3395.380184\n",
            "dtype: float64\n",
            "Total Variance:\n",
            "135404799.73772162\n"
          ]
        }
      ],
      "source": [
        "import pandas as pd\n",
        "import numpy as np\n",
        "\n",
        "data = pd.read_csv('./OnlineNewsPopularity.csv')\n",
        "data = data.drop(data.columns[[0,1,13,14,15,16,17,18,19,20,21,22,23,24,25,26,27,28,29,30,31,32,33,34,35,36,37,38]], axis=1)\n",
        "data.head()\n",
        "# nArray = data.to_numpy()\n",
        "\n",
        "# print(nArray.shape[1]);\n",
        "# print(nArray.shape[0]);\n",
        "means = np.mean(data, axis=0);\n",
        "print(\"Mean Vector:\")\n",
        "print(means)\n",
        "xHat = data-means;\n",
        "# print(xHat)\n",
        "xNorm = 0;\n",
        "for j in xHat.values:\n",
        "  xNorm+= (np.dot(j.transpose(),j))\n",
        "totalVariance = xNorm/data.shape[0];\n",
        "print(\"Total Variance:\")\n",
        "print(totalVariance)\n",
        "\n",
        "\n"
      ]
    },
    {
      "cell_type": "markdown",
      "source": [
        "# Covariance Matrix (inner and outer product form)"
      ],
      "metadata": {
        "id": "7slFmk8gCpqz"
      }
    },
    {
      "cell_type": "code",
      "source": [
        "innerCovMatrix = np.dot(np.transpose(xHat),xHat)/data.shape[0]\n",
        "print(\"Inner Product Covariance Matrix\")\n",
        "print(innerCovMatrix)\n",
        "print(innerCovMatrix.shape)\n",
        "outerCovMatrix = np.zeros((data.shape[1],data.shape[1]))\n",
        "for k in xHat.values:\n",
        "  outerCovMatrix += k*k\n",
        "outerCovMatrix = outerCovMatrix/data.shape[0];\n",
        "print(\"Outer Product Covariance Matrix\")\n",
        "print(outerCovMatrix)\n",
        "print(outerCovMatrix.shape)\n",
        "\n"
      ],
      "metadata": {
        "id": "QJxmlhc-Cymd",
        "colab": {
          "base_uri": "https://localhost:8080/"
        },
        "outputId": "c9535047-5137-4950-f66a-28fdbfed2293"
      },
      "execution_count": null,
      "outputs": [
        {
          "output_type": "stream",
          "name": "stdout",
          "text": [
            "Inner Product Covariance Matrix\n",
            "[[ 4.46903889e+00  1.80854387e+01 -3.95820555e-02 ... -5.86494607e-02\n",
            "   1.93982451e-02  2.15881875e+02]\n",
            " [ 1.80854387e+01  2.21936686e+05 -7.85621983e+00 ...  6.34662705e-01\n",
            "   1.43271448e+00  1.34688547e+04]\n",
            " [-3.95820555e-02 -7.85621983e+00  1.23950745e+01 ... -6.14309369e-03\n",
            "  -3.35931915e-03  3.30070096e+01]\n",
            " ...\n",
            " [-5.86494607e-02  6.34662705e-01 -6.14309369e-03 ...  3.56410689e-02\n",
            "  -1.71000855e-02  3.25079931e+00]\n",
            " [ 1.93982451e-02  1.43271448e+00 -3.35931915e-03 ... -1.71000855e-02\n",
            "   5.12077722e-02  7.13940172e+01]\n",
            " [ 2.15881875e+02  1.34688547e+04  3.30070096e+01 ...  3.25079931e+00\n",
            "   7.13940172e+01  1.35182574e+08]]\n",
            "(33, 33)\n",
            "Outer Product Covariance Matrix\n",
            "[[4.46903889e+00 2.21936686e+05 1.23950745e+01 ... 3.56410689e-02\n",
            "  5.12077722e-02 1.35182574e+08]\n",
            " [4.46903889e+00 2.21936686e+05 1.23950745e+01 ... 3.56410689e-02\n",
            "  5.12077722e-02 1.35182574e+08]\n",
            " [4.46903889e+00 2.21936686e+05 1.23950745e+01 ... 3.56410689e-02\n",
            "  5.12077722e-02 1.35182574e+08]\n",
            " ...\n",
            " [4.46903889e+00 2.21936686e+05 1.23950745e+01 ... 3.56410689e-02\n",
            "  5.12077722e-02 1.35182574e+08]\n",
            " [4.46903889e+00 2.21936686e+05 1.23950745e+01 ... 3.56410689e-02\n",
            "  5.12077722e-02 1.35182574e+08]\n",
            " [4.46903889e+00 2.21936686e+05 1.23950745e+01 ... 3.56410689e-02\n",
            "  5.12077722e-02 1.35182574e+08]]\n",
            "(33, 33)\n"
          ]
        }
      ]
    },
    {
      "cell_type": "markdown",
      "source": [
        "# Correlation matrix as pairwise cosines"
      ],
      "metadata": {
        "id": "bfM3l6vnaeuw"
      }
    },
    {
      "cell_type": "code",
      "source": [
        "from tables.utils import math\n",
        "from numpy import linalg as la\n",
        "\n",
        "corr = np.zeros((xHat.shape[1],xHat.shape[1]))\n",
        "maxi = -100.0\n",
        "mini = 100.0\n",
        "leastCorr = 100.0\n",
        "leastCorrAct = 0\n",
        "maxCol = (\"\",\"\")\n",
        "maxColInd = (0,0)\n",
        "minCol = (\"\",\"\")\n",
        "minColInd = (0,0)\n",
        "leastCorrCol = (\"\",\"\")\n",
        "leastColInd = (0,0)\n",
        "for i in range(0,xHat.shape[1]):\n",
        "  for j in range(0,xHat.shape[1]):\n",
        "    Ai = xHat.iloc[:,i];\n",
        "    AiNorm = math.sqrt(np.dot(Ai.transpose(),Ai));\n",
        "    Aj = xHat.iloc[:,j];\n",
        "    AjNorm = math.sqrt(np.dot(Aj.transpose(),Aj));\n",
        "    AiVal = Ai/AiNorm;\n",
        "    AjVal = Aj/AjNorm;\n",
        "    val = np.dot(AiVal.transpose(),AjVal);\n",
        "    corr[i][j] = val;\n",
        "    if (i!=j):\n",
        "      if (val>maxi):\n",
        "        maxi = val\n",
        "        maxCol = (xHat.columns[i], xHat.columns[j]) \n",
        "        maxColInd = (i,j)\n",
        "      if (val<mini):\n",
        "        mini = val\n",
        "        minCol = (xHat.columns[i], xHat.columns[j])\n",
        "        minColInd = (i,j)\n",
        "      if (abs(val)<leastCorr):\n",
        "        leastCorr = abs(val);\n",
        "        leastCorrAct = val;\n",
        "        leastCorrCol = (xHat.columns[i],xHat.columns[j])\n",
        "        leastColInd = (i,j)\n",
        "\n",
        "print(\"Correlation Matrix\")\n",
        "print(corr)\n",
        "\n",
        "print(\"Most Correlated\")\n",
        "print(maxi)\n",
        "\n",
        "print(\"Most Correlated Columns and Indexes\")\n",
        "print(maxCol)\n",
        "print(maxColInd)\n",
        "\n",
        "print(\"Most Anti Correlated\")\n",
        "print(mini)\n",
        "\n",
        "print(\"Most Anti Correlated Columns and Indexes\")\n",
        "print(minCol)\n",
        "print(minColInd)\n",
        "\n",
        "print(\"Least Correlated\")\n",
        "print(leastCorrAct)\n",
        "\n",
        "print(\"Least Correlated Columns and Indexes\")\n",
        "print(leastCorrCol)\n",
        "print(leastColInd)\n",
        "\n",
        "\n",
        "  "
      ],
      "metadata": {
        "colab": {
          "base_uri": "https://localhost:8080/"
        },
        "id": "sPZaSGwcao8q",
        "outputId": "fe8aa323-3b12-4d13-8418-a9b26308cd90"
      },
      "execution_count": null,
      "outputs": [
        {
          "output_type": "stream",
          "name": "stdout",
          "text": [
            "Correlation Matrix\n",
            "[[ 1.00000000e+00  1.81596482e-02 -5.31822498e-03 ... -1.46954062e-01\n",
            "   4.05496802e-02  8.78311884e-03]\n",
            " [ 1.81596482e-02  1.00000000e+00 -4.73668505e-03 ...  7.13597090e-03\n",
            "   1.34393158e-02  2.45898435e-03]\n",
            " [-5.31822498e-03 -4.73668505e-03  1.00000000e+00 ... -9.24245210e-03\n",
            "  -4.21656456e-03  8.06345661e-04]\n",
            " ...\n",
            " [-1.46954062e-01  7.13597090e-03 -9.24245210e-03 ...  1.00000000e+00\n",
            "  -4.00271787e-01  1.48099790e-03]\n",
            " [ 4.05496802e-02  1.34393158e-02 -4.21656456e-03 ... -4.00271787e-01\n",
            "   1.00000000e+00  2.71352310e-02]\n",
            " [ 8.78311884e-03  2.45898435e-03  8.06345661e-04 ...  1.48099790e-03\n",
            "   2.71352310e-02  1.00000000e+00]]\n",
            "Most Correlated\n",
            "0.9998515160178315\n",
            "Most Correlated Columns and Indexes\n",
            "(' n_unique_tokens', ' n_non_stop_unique_tokens')\n",
            "(2, 4)\n",
            "Most Anti Correlated\n",
            "-0.6507174017206476\n",
            "Most Anti Correlated Columns and Indexes\n",
            "(' global_sentiment_polarity', ' rate_negative_words')\n",
            "(17, 21)\n",
            "Least Correlated\n",
            "1.4096629564291224e-05\n",
            "Least Correlated Columns and Indexes\n",
            "(' n_unique_tokens', ' global_rate_positive_words')\n",
            "(2, 18)\n"
          ]
        }
      ]
    },
    {
      "cell_type": "markdown",
      "source": [
        "**Most Correlated Columns:** \n",
        "n_unique_tokens and n_non_stop_unique_tokens (2 and 4) (0.9998515160178315)\n",
        "\n",
        "**Most Anti Correlated Columns:** \n",
        "global_sentiment_polarity and rate_negative_words (17 and 21) (-0.6507174017206476)\n",
        "\n",
        "**Least Correlated:**\n",
        "n_unique_tokens and global_rate_positive_wordds (2 and 18) (1.4096629564291224e-05)"
      ],
      "metadata": {
        "id": "qeMiqx-CtS0R"
      }
    },
    {
      "cell_type": "markdown",
      "source": [
        "# Visualization"
      ],
      "metadata": {
        "id": "lUMmbvXesnka"
      }
    },
    {
      "cell_type": "code",
      "source": [
        "import matplotlib.pyplot as plt\n",
        "\n",
        "colors = ['blue', 'red']\n",
        "\n",
        "plt.scatter(xHat.iloc[:,maxColInd[0]],xHat.iloc[:,maxColInd[1]])\n",
        "plt.title(\"Most Correlated\")\n",
        "plt.xlabel(maxCol[0])\n",
        "plt.ylabel(maxCol[1])\n",
        "plt.show()\n",
        "\n",
        "plt.scatter(xHat.iloc[:,minColInd[0]],xHat.iloc[:,minColInd[1]])\n",
        "plt.title(\"Most Anti-Correlated\")\n",
        "plt.xlabel(minCol[0])\n",
        "plt.ylabel(minCol[1])\n",
        "plt.show()\n",
        "\n",
        "plt.scatter(xHat.iloc[:,leastColInd[0]],xHat.iloc[:,leastColInd[1]])\n",
        "plt.title(\"Least Correlated\")\n",
        "plt.xlabel(leastCorrCol[0])\n",
        "plt.ylabel(leastCorrCol[1])\n",
        "plt.show()"
      ],
      "metadata": {
        "colab": {
          "base_uri": "https://localhost:8080/",
          "height": 854
        },
        "id": "v51qbh07sqXI",
        "outputId": "a77670a2-97f7-49d3-9d01-740a13c33b8e"
      },
      "execution_count": null,
      "outputs": [
        {
          "output_type": "display_data",
          "data": {
            "text/plain": [
              "<Figure size 432x288 with 1 Axes>"
            ],
            "image/png": "[encoded data removed]"
          },
          "metadata": {
            "needs_background": "light"
          }
        },
        {
          "output_type": "display_data",
          "data": {
            "text/plain": [
              "<Figure size 432x288 with 1 Axes>"
            ],
            "image/png": "[encoded data removed]"
          },
          "metadata": {
            "needs_background": "light"
          }
        },
        {
          "output_type": "display_data",
          "data": {
            "text/plain": [
              "<Figure size 432x288 with 1 Axes>"
            ],
            "image/png": "[encoded data removed]"
          },
          "metadata": {
            "needs_background": "light"
          }
        }
      ]
    },
    {
      "cell_type": "markdown",
      "source": [
        "We see that based on the scatter splots the most correlated attributes seem to have points on the same line  with a slope similar to 1 while the most anti correlated have points everywhere on multiple lines with very little coherence but a slope that seems to fit close to -1. However the least correlated are completely opposite of each other on two totally different lines altogether so it makes sense that their correlation is very small. These results are expected for the most part. It makes sense that n_unique_tokens is most correlated with n_non_stop_unique_tokens since they are both values for unique tokens (unique words). However it was unexpected that the rate of negative words was anti-correlated with global sentiment polarity since I would guess the rate of negative words would change sentiment of the document. Lastly I thought the unique tokens would be correlated with the global rate postive words since they are both concerning words within the news documents but that clearly is not the case."
      ],
      "metadata": {
        "id": "-61Qbked05kO"
      }
    },
    {
      "cell_type": "markdown",
      "source": [
        "# Change Of Basis\n"
      ],
      "metadata": {
        "id": "ufNMSl1lbhEp"
      }
    },
    {
      "cell_type": "code",
      "source": [
        "from numpy import linalg as la\n",
        "np.random.seed(42)\n",
        "U = np.zeros((33,33))\n",
        "first = np.random.random_sample((33,))\n",
        "U0 = first/la.norm(first)\n",
        "U[:,0] = U0;\n",
        "for i in range(1,33):\n",
        "  x = np.random.random_sample((33,))\n",
        "  for j in range(0, i):\n",
        "    proj = (np.dot(x.transpose(),U[:,j])/np.dot(U[:,j],U[:,j]))*U[:,j]\n",
        "    x = x-proj\n",
        "  ui = x/la.norm(x)\n",
        "  U[:,i] = ui\n",
        "Dprime = np.dot(data,U)\n",
        "Dprime_means = np.mean(Dprime,axis=0)\n",
        "Dprime_hat = Dprime - Dprime_means\n",
        "dprimeNorm = 0\n",
        "for i in Dprime_hat:\n",
        "  dprimeNorm += np.dot(i.transpose(),i)\n",
        "primeVariance = dprimeNorm/Dprime_hat.shape[0]\n",
        "print(\"New Data Total Variance\")\n",
        "print(primeVariance)"
      ],
      "metadata": {
        "colab": {
          "base_uri": "https://localhost:8080/"
        },
        "id": "X4eb2WiDbl8r",
        "outputId": "b768efdf-39d3-4f75-aad4-9187acd934be"
      },
      "execution_count": null,
      "outputs": [
        {
          "output_type": "stream",
          "name": "stdout",
          "text": [
            "New Data Total Variance\n",
            "135404799.73772126\n"
          ]
        }
      ]
    },
    {
      "cell_type": "markdown",
      "source": [
        "# Compare Variances\n",
        "The new data total variance from the data set projected onto the orthogonal basis is the same as the total variance of the original data set: 135404799.73772126"
      ],
      "metadata": {
        "id": "9ApWhA3BAytu"
      }
    }
  ]
}