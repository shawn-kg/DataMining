{
  "nbformat": 4,
  "nbformat_minor": 0,
  "metadata": {
    "colab": {
      "provenance": [],
      "authorship_tag": "ABX9TyMREwSv8iTAweHMluUH3cbi",
      "include_colab_link": true
    },
    "kernelspec": {
      "name": "python3",
      "display_name": "Python 3"
    },
    "language_info": {
      "name": "python"
    }
  },
  "cells": [
    {
      "cell_type": "markdown",
      "metadata": {
        "id": "view-in-github",
        "colab_type": "text"
      },
      "source": [
        "<a href=\"https://colab.research.google.com/github/shawn-kg/DataMining/blob/main/assign4.ipynb\" target=\"_parent\"><img src=\"https://colab.research.google.com/assets/colab-badge.svg\" alt=\"Open In Colab\"/></a>"
      ]
    },
    {
      "cell_type": "markdown",
      "source": [
        "#Assign 4: Linear Regression"
      ],
      "metadata": {
        "id": "vzCv0bLlKG-y"
      }
    },
    {
      "cell_type": "markdown",
      "source": [
        "## Data Preprocessing"
      ],
      "metadata": {
        "id": "-0V32ijhKNp7"
      }
    },
    {
      "cell_type": "code",
      "execution_count": 3,
      "metadata": {
        "id": "co8g9Gxsp8Ls",
        "colab": {
          "base_uri": "https://localhost:8080/"
        },
        "outputId": "8bec20cb-7ecf-4f13-a935-ede827a136bf"
      },
      "outputs": [
        {
          "output_type": "stream",
          "name": "stdout",
          "text": [
            "Train\n",
            "[[ 1.          0.76066508  1.00690312 ... -0.26330178  0.83711369\n",
            "  -0.69029101]\n",
            " [ 1.         -0.65736617 -0.08776171 ... -0.26330178  0.83711369\n",
            "  -0.69029101]\n",
            " [ 1.         -0.65736617 -0.66716439 ... -0.26330178  0.83711369\n",
            "  -0.69029101]\n",
            " ...\n",
            " [ 1.         -0.65736617  0.90855432 ... -0.26330178  0.83711369\n",
            "  -0.69029101]\n",
            " [ 1.          0.28798799  3.06153769 ... -1.76983497 -0.75038339\n",
            "   1.07998198]\n",
            " [ 1.          1.23334216 -0.60516189 ...  0.39580649 -0.88267481\n",
            "   0.08420343]]\n",
            "Valid\n",
            "[[ 1.          0.76066508  0.13245406 ... -1.76983497 -1.27954908\n",
            "   1.07998198]\n",
            " [ 1.          1.23334216 -0.80185948 ...  0.11333152  0.307948\n",
            "  -0.24772276]\n",
            " [ 1.         -1.13004325 -0.42129241 ...  1.99649801  0.83711369\n",
            "   1.96511847]\n",
            " ...\n",
            " [ 1.         -0.18468909 -1.16318439 ... -0.26330178  0.83711369\n",
            "  -0.69029101]\n",
            " [ 1.          0.76066508  2.20205476 ... -0.26330178  0.83711369\n",
            "  -0.69029101]\n",
            " [ 1.         -1.60272033 -0.29301137 ... -0.26330178  0.83711369\n",
            "  -0.69029101]]\n",
            "Test\n",
            "[[ 1.         -0.65736617 -0.98572896 ...  0.25028908 -1.80871477\n",
            "  -0.08678885]\n",
            " [ 1.         -0.18468909  1.22711889 ... -1.76983497 -0.75038339\n",
            "   1.07998198]\n",
            " [ 1.         -0.65736617 -1.16318439 ...  0.67828147 -1.80871477\n",
            "   0.41612961]\n",
            " ...\n",
            " [ 1.          0.28798799 -0.79544542 ... -0.45161843  0.04336515\n",
            "  -0.46900688]\n",
            " [ 1.         -1.60272033 -0.97076284 ...  0.67828147 -1.80871477\n",
            "   0.41612961]\n",
            " [ 1.         -0.18468909 -0.54315939 ... -0.26330178  0.83711369\n",
            "  -0.69029101]]\n"
          ]
        }
      ],
      "source": [
        "import numpy as np\n",
        "import pandas as pd\n",
        "from sklearn.preprocessing import StandardScaler\n",
        "\n",
        "scaler = StandardScaler(with_mean=True, with_std=True)\n",
        "data = pd.read_csv('./OnlineNewsPopularity.csv')\n",
        "\n",
        "data = data.drop(data.columns[[0,1,4,5,6,13,14,15,16,17,18,19,20,21,22,23,24,25,26,27,28,29,30,31,32,33,34,35,36,37,38]], axis=1)\n",
        "# print(data.shape)\n",
        "data = data.to_numpy()\n",
        "\n",
        "np.random.seed(42)\n",
        "np.random.shuffle(data)\n",
        "target = data[:,-1]\n",
        "data = np.delete(data,-1,1)\n",
        "# print(data)\n",
        "train = data[:31715]\n",
        "# print(train)\n",
        "valid = data[31715:31715+3964]\n",
        "# print(valid.shape)\n",
        "test = data[31715+3964:31715+3964+3965]\n",
        "# print(test.shape)\n",
        "train_means = np.mean(train, axis=0)\n",
        "# print(train_means)\n",
        "train_std = np.std(train, axis=0)\n",
        "# scaler.fit(train)\n",
        "# train = scaler.transform(train)\n",
        "# print(train_std)\n",
        "for i in range(31715):\n",
        "  for j in range(29):\n",
        "    train[i][j] = (train[i][j] - train_means[j])/train_std[j]\n",
        "for i in range(3964):\n",
        "  for j in range(29):\n",
        "    valid[i][j] = (valid[i][j] - train_means[j])/train_std[j]\n",
        "for i in range(3965):\n",
        "  for j in range(29):\n",
        "    test[i][j] = (test[i][j] - train_means[j])/train_std[j]\n",
        "train = np.insert(train,0,np.ones((31715)),axis=1)\n",
        "valid = np.insert(valid,0,np.ones((3964)),axis=1)\n",
        "test = np.insert(test,0,np.ones((3965)),axis=1)\n",
        "print(\"Train\")\n",
        "print(train)\n",
        "print(\"Valid\")\n",
        "print(valid)\n",
        "print(\"Test\")\n",
        "print(test)"
      ]
    },
    {
      "cell_type": "markdown",
      "source": [
        "## Part 1: Linear Regression via QR Factorization"
      ],
      "metadata": {
        "id": "bzd4RceEKT2e"
      }
    },
    {
      "cell_type": "code",
      "source": [
        "import math\n",
        "Q = np.zeros((31715,30))\n",
        "for i in range(30):\n",
        "  x = train[:,i]\n",
        "  for j in range(i):\n",
        "    proj = (np.dot(train[:,i].transpose(),Q[:,j])/np.dot(Q[:,j].transpose(),Q[:,j])) * Q[:,j]\n",
        "    x = x-proj\n",
        "  Q[:,i] = x\n",
        "R = np.zeros((30,30))\n",
        "for i in range(30):\n",
        "  for j in range(30):\n",
        "    if j<i:\n",
        "      R[i][j] = 0\n",
        "    elif i==j:\n",
        "      R[i][j] = 1\n",
        "    else:\n",
        "      R[i][j] = np.dot(train[:,j].transpose(), Q[:,i])/np.dot(Q[:,i],Q[:,i])\n",
        "      \n",
        "\n",
        "# print(Q)\n",
        "delta = np.zeros((30,30))\n",
        "for i in range(30):\n",
        "  for j in range(30):\n",
        "    if i==j:\n",
        "      delta[i][j] = np.dot(Q[:,i],Q[:,i])\n",
        "delta_inverse = np.zeros((30,30))\n",
        "for i in range(30):\n",
        "  for j in range(30):\n",
        "    if i==j:\n",
        "      delta_inverse[i][j] = 1/delta[i][j]\n",
        "# print(delta_inverse)\n",
        "M = np.dot(np.dot(delta_inverse,Q.transpose()),target[:31715])\n",
        "\n",
        "W = np.ones((30))\n",
        "\n",
        "for i in reversed(range(30)):\n",
        "  m = M[i]\n",
        "  for j in range(29,i,-1):\n",
        "    m-=R[i][j]*W[j]\n",
        "  W[i] = m\n",
        "print(\"Weight Vector: \")\n",
        "print(W)\n",
        "\n",
        "y_predict = np.dot(test,W)\n",
        "y = target[31715+3964:31715+3964+3965]\n",
        "# y_p2 = np.zeros(31715)\n",
        "# for i in range(30):\n",
        "#   y_p2+= (np.dot(y.transpose(),Q[:,i])/np.dot(Q[:,i],Q[:,i])) * Q[:,i]\n",
        "SSE = 0\n",
        "TSS = 0\n",
        "y_mean = np.mean(y)\n",
        "for i in range(3965):\n",
        "  SSE+=math.pow((y[i]-y_predict[i]),2)\n",
        "  TSS+=math.pow((y[i]-y_mean),2)\n",
        "print(\"SSE\")\n",
        "print(SSE)\n",
        "print(\"TSS\")\n",
        "print(TSS)\n",
        "R2stat = (TSS-SSE)/TSS\n",
        "print(\"R^2\")\n",
        "print(R2stat)"
      ],
      "metadata": {
        "colab": {
          "base_uri": "https://localhost:8080/"
        },
        "id": "rerV2HR9Kd00",
        "outputId": "c055c3ca-d518-4b08-f363-9f18fbed520f"
      },
      "execution_count": 4,
      "outputs": [
        {
          "output_type": "stream",
          "name": "stdout",
          "text": [
            "Weight Vector: \n",
            "[ 3.40707351e+03  1.14967599e+02  4.34480546e+01  4.51110555e+02\n",
            " -2.55092374e+02  1.60750010e+02  6.92119803e+01 -2.53396335e+02\n",
            "  2.09460938e+02  4.41496039e+13  3.71665242e+13  4.73826726e+13\n",
            "  4.95373290e+13  4.85602957e+13  5.34979327e+02 -3.21151426e+01\n",
            " -1.55596864e+02  3.59624021e+01 -2.44067907e+02 -1.76407696e+02\n",
            "  1.55632821e+00 -9.25381825e+01 -4.42548503e+01 -2.01408475e+02\n",
            "  6.68095810e+01 -1.05263061e+02 -2.30367000e+01  4.45984617e+01\n",
            "  6.01785590e+01  1.55678902e+02]\n",
            "SSE\n",
            "2.822400673836131e+28\n",
            "TSS\n",
            "277008716210.6508\n",
            "R^2\n",
            "-1.0188851500578202e+17\n"
          ]
        }
      ]
    },
    {
      "cell_type": "markdown",
      "source": [
        "## Part 2: Linear Regression with Regularization"
      ],
      "metadata": {
        "id": "yVmRCrc4ylj0"
      }
    },
    {
      "cell_type": "code",
      "source": [
        "np.random.seed(42)\n",
        "Wt = np.random.random_sample((30))\n",
        "alpha = 3600\n",
        "y = target[:31715]\n",
        "while (True):\n",
        "  deltaw = np.dot(np.dot(train.transpose(),train),Wt) + alpha*Wt - np.dot(train.transpose(),y)\n",
        "  wt1 = Wt - (1e-6)*deltaw\n",
        "  # wt1 = (1-(1e-6)*alpha)*Wt + np.dot((1e-6)*train.transpose(),(y-np.dot(train,Wt)))\n",
        "  if (np.linalg.norm(wt1-Wt)<=.001):\n",
        "    Wt = wt1\n",
        "    break\n",
        "  Wt = wt1\n",
        "Y_val = target[31715:31715+3964]\n",
        "Y_val_predict = np.dot(valid,Wt)\n",
        "val_sse = 0\n",
        "for i in range(3964):\n",
        "  val_sse+=math.pow((Y_val[i]-Y_val_predict[i]),2)\n",
        "print(\"Validation SSE:\")\n",
        "print(val_sse)\n",
        "print(\"Weight Vector\")\n",
        "print(Wt)\n",
        "print(\"Alpha\")\n",
        "print(alpha)\n",
        "\n",
        "Y_test = target[31715+3964:31715+3964+3965]\n",
        "Y_test_predict = np.dot(test,Wt)\n",
        "Y_test_mean = np.mean(Y_test)\n",
        "test_sse = 0\n",
        "test_tss = 0\n",
        "for i in range(3965):\n",
        "  test_sse+=math.pow((Y_test[i]-Y_test_predict[i]),2)\n",
        "  test_tss+=math.pow((Y_test[i]-Y_test_mean),2)\n",
        "testR2 = (test_tss-test_sse)/test_tss\n",
        "print(\"Test SSE\")\n",
        "print(test_sse)\n",
        "print(\"Test TSS\")\n",
        "print(test_tss)\n",
        "print(\"R^2\")\n",
        "print(testR2)"
      ],
      "metadata": {
        "colab": {
          "base_uri": "https://localhost:8080/"
        },
        "id": "JupZDPHHy9pu",
        "outputId": "f81fca55-ea81-40a1-c853-3f03f620963a"
      },
      "execution_count": 7,
      "outputs": [
        {
          "output_type": "stream",
          "name": "stdout",
          "text": [
            "Validation SSE:\n",
            "587126078941.055\n",
            "Weight Vector\n",
            "[3059.75333428   95.9369778    20.2317905   395.52581964 -209.59637407\n",
            "  166.34255073   77.04010776 -249.73079823  194.63688294   71.23756594\n",
            " -156.9613368  -423.92436224  487.99709605  -28.74970653  409.27711064\n",
            "   -9.6335503  -115.1697827    10.9266336  -163.33772714  -85.04563524\n",
            "    5.9821681   -73.16018667  -36.86272714 -164.88538205    5.15953413\n",
            " -108.22874828   11.41421898   42.19155456   57.72331324  131.33008361]\n",
            "Alpha\n",
            "3600\n",
            "Test SSE\n",
            "270663842021.91913\n",
            "Test TSS\n",
            "277008716210.6508\n",
            "R^2\n",
            "0.022904962253630822\n"
          ]
        }
      ]
    }
  ]
}