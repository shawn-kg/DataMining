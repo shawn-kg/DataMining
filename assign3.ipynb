{
  "nbformat": 4,
  "nbformat_minor": 0,
  "metadata": {
    "colab": {
      "provenance": [],
      "authorship_tag": "ABX9TyMiVBqdwkt6CVd1WpLcLdFQ",
      "include_colab_link": true
    },
    "kernelspec": {
      "name": "python3",
      "display_name": "Python 3"
    },
    "language_info": {
      "name": "python"
    }
  },
  "cells": [
    {
      "cell_type": "markdown",
      "metadata": {
        "id": "view-in-github",
        "colab_type": "text"
      },
      "source": [
        "<a href=\"https://colab.research.google.com/github/shawn-kg/DataMining/blob/main/assign3.ipynb\" target=\"_parent\"><img src=\"https://colab.research.google.com/assets/colab-badge.svg\" alt=\"Open In Colab\"/></a>"
      ]
    },
    {
      "cell_type": "markdown",
      "source": [
        "#Non-Linear Dimensionality Reduction: Kernel PCA"
      ],
      "metadata": {
        "id": "__S6sCtCy8gf"
      }
    },
    {
      "cell_type": "markdown",
      "source": [
        "## Linear Kernel PCA"
      ],
      "metadata": {
        "id": "86pKiiI3rxZ9"
      }
    },
    {
      "cell_type": "code",
      "execution_count": 5,
      "metadata": {
        "colab": {
          "base_uri": "https://localhost:8080/",
          "height": 368
        },
        "id": "0LynKghAy2QZ",
        "outputId": "5f640958-d91e-43ab-d052-9f9edfc3a135"
      },
      "outputs": [
        {
          "output_type": "stream",
          "name": "stdout",
          "text": [
            "Variances\n",
            "[-1.70623132e-10 -1.03603174e-10 -4.94937169e-11 ...  3.93806145e+01\n",
            "  8.10578793e+01  1.56219562e+05]\n",
            "Reduced to dimension: \n",
            "1\n"
          ]
        },
        {
          "output_type": "display_data",
          "data": {
            "text/plain": [
              "<Figure size 432x288 with 1 Axes>"
            ],
            "image/png": "[encoded data removed]"
          },
          "metadata": {
            "needs_background": "light"
          }
        }
      ],
      "source": [
        "import pandas as pd\n",
        "import numpy as np\n",
        "import matplotlib.pyplot as plt\n",
        "import math\n",
        "\n",
        "data = pd.read_csv('./OnlineNewsPopularity.csv')\n",
        "data = data.drop(data.columns[[0,1,4,5,6,13,14,15,16,17,18,19,20,21,22,23,24,25,26,27,28,29,30,31,32,33,34,35,36,37,38,60]], axis=1)\n",
        "data = data.iloc[:5000]\n",
        "data = data.to_numpy()\n",
        "# print(data)\n",
        "\n",
        "\n",
        "K = np.dot(data,data.transpose())\n",
        "    \n",
        "# print(K)\n",
        "\n",
        "id = np.identity(5000)\n",
        "ones = np.ones((5000,5000))\n",
        "ones = ones/5000\n",
        "center_helper = id - ones\n",
        "# print(center_helper)\n",
        "center_helper2 = np.dot(center_helper,K)\n",
        "K_hat = np.dot(center_helper2,center_helper)\n",
        "# print(K_hat)\n",
        "E, C = np.linalg.eigh(K_hat)\n",
        "\n",
        "# print(\"Eigenvalues\")\n",
        "# print(E)\n",
        "# print(C)\n",
        "\n",
        "variances = E / 5000\n",
        "n = np.sum(variances)\n",
        "# print(n)\n",
        "C_unit = np.zeros((5000,5000))\n",
        "# print(\"Eigenvalues divided by 5000\")\n",
        "print(\"Variances\")\n",
        "print(variances)\n",
        "\n",
        "for i in reversed(range(5000)):\n",
        "  C_unit[:,i] = math.sqrt(1/abs(E[i]))*C[:,i]\n",
        "\n",
        "count = 0\n",
        "var = 0\n",
        "for i in reversed(range(5000)):\n",
        "  if count == 29:\n",
        "    break\n",
        "  var+=variances[i]\n",
        "  if var/n >= .95:\n",
        "    count+=1\n",
        "    break\n",
        "  count+=1\n",
        "print(\"Reduced to dimension: \")\n",
        "print(count)\n",
        "\n",
        "new_basis = np.zeros((5000,2))\n",
        "new_basis[:,0] = C_unit[:,4999]\n",
        "new_basis[:,1] = C_unit[:,4998]\n",
        "# print(new_basis)\n",
        "\n",
        "\n",
        "\n",
        "a = np.dot(K_hat,new_basis)\n",
        "\n",
        "plt.scatter(a[:,0],a[:,1])\n",
        "plt.title(\"Linear Kernel\")\n",
        "plt.show()\n",
        " "
      ]
    },
    {
      "cell_type": "markdown",
      "source": [
        "## Covariance Projection"
      ],
      "metadata": {
        "id": "QGyxaTCZrRmv"
      }
    },
    {
      "cell_type": "code",
      "source": [
        "means = np.mean(data, axis=0);\n",
        "dHat = data - means\n",
        "cov = np.dot(np.transpose(dHat),dHat)/data.shape[0]\n",
        "\n",
        "eigval, eigvec = np.linalg.eigh(cov)\n",
        "print(\"Eigenvalues\")\n",
        "print(eigval)\n",
        "cov_basis = np.zeros((29,2))\n",
        "cov_basis[:,0] = eigvec[:,28]\n",
        "cov_basis[:,1] = eigvec[:,27]\n",
        "proj = np.dot(dHat,cov_basis)\n",
        "\n",
        "plt.scatter(proj[:,0],proj[:,1])\n",
        "plt.title(\"Regular Principal Components\")\n",
        "plt.show()"
      ],
      "metadata": {
        "colab": {
          "base_uri": "https://localhost:8080/",
          "height": 437
        },
        "id": "QfXQhudyR1p-",
        "outputId": "bd6f4452-4f07-4ede-f2b1-d8dd45b6a79f"
      },
      "execution_count": 6,
      "outputs": [
        {
          "output_type": "stream",
          "name": "stdout",
          "text": [
            "Eigenvalues\n",
            "[4.15096697e-17 1.85030656e-05 1.67995172e-04 8.14527062e-04\n",
            " 1.07696112e-03 1.42294495e-03 2.47939602e-03 4.93692327e-03\n",
            " 8.07120488e-03 1.13326699e-02 1.54721430e-02 2.39268281e-02\n",
            " 2.69760865e-02 4.30234672e-02 5.44823138e-02 6.11495109e-02\n",
            " 7.47460403e-02 7.61925997e-02 9.95463990e-02 1.16400053e-01\n",
            " 1.68634693e-01 2.55295982e-01 3.48504067e+00 3.80350554e+00\n",
            " 1.57176844e+01 2.36601568e+01 3.93806145e+01 8.10578793e+01\n",
            " 1.56219562e+05]\n"
          ]
        },
        {
          "output_type": "display_data",
          "data": {
            "text/plain": [
              "<Figure size 432x288 with 1 Axes>"
            ],
            "image/png": "[encoded data removed]"
          },
          "metadata": {
            "needs_background": "light"
          }
        }
      ]
    },
    {
      "cell_type": "markdown",
      "source": [
        "The eigenvalues for the covariance matrix and the linear kernel PCA (when divided by the n=5000) are the same while the projections are the same."
      ],
      "metadata": {
        "id": "i9mGm4d1mMrq"
      }
    },
    {
      "cell_type": "markdown",
      "source": [
        "## Gaussian Kernel PCA"
      ],
      "metadata": {
        "id": "wkEfDSbUrUui"
      }
    },
    {
      "cell_type": "code",
      "source": [
        "\n",
        "\n",
        "S = np.zeros((5000,1))\n",
        "for i in range(5000):\n",
        "  S[i] = np.dot(data[i],data[i])\n",
        "spread = 2*100000\n",
        "K2 = np.exp((2 * np.dot(data,np.transpose(data)) - S - np.transpose(S))/spread)\n",
        "# print(K2)\n",
        "\n",
        "\n",
        "\n",
        "id = np.identity(5000)\n",
        "ones = np.ones((5000,5000))\n",
        "ones = ones/5000\n",
        "center_helper = id - ones\n",
        "center_helper2 = np.dot(center_helper,K2)\n",
        "K_hat2 = np.dot(center_helper2,center_helper)\n",
        "E2, C2 = np.linalg.eigh(K_hat2)\n",
        "# print(K_hat2)\n",
        "\n",
        "\n",
        "variances2 = E2 / 5000\n",
        "n = np.sum(variances2)\n",
        "C_unit2 = np.zeros((5000,5000))\n",
        "\n",
        "\n",
        "for i in reversed(range(5000)):\n",
        "  C_unit2[:,i] = (1/math.sqrt(abs(E2[i])))*C2[:,i]\n",
        "count = 0\n",
        "var = 0\n",
        "for i in reversed(range(5000)):\n",
        "  var+=variances2[i]\n",
        "  if var/n >= .95:\n",
        "    count+=1\n",
        "    break\n",
        "  count+=1\n",
        "print(\"Reduced to dimension: \")\n",
        "print(count)\n",
        "\n",
        "new_basis2 = np.zeros((5000,2))\n",
        "new_basis2[:,0] = C_unit2[:,4999]\n",
        "new_basis2[:,1] = C_unit2[:,4998]\n",
        "\n",
        "# print(new_basis2)\n",
        "\n",
        "\n",
        "\n",
        "a2 = np.dot(K_hat2,new_basis2)\n",
        "\n",
        "plt.scatter(a2[:,0],a2[:,1])\n",
        "plt.title(\"Gaussian Kernel\")\n",
        "plt.show()"
      ],
      "metadata": {
        "colab": {
          "base_uri": "https://localhost:8080/",
          "height": 316
        },
        "id": "O6JHysZ0rP6h",
        "outputId": "ce90c747-e9d5-428e-e77b-dc36902dd697"
      },
      "execution_count": 7,
      "outputs": [
        {
          "output_type": "stream",
          "name": "stdout",
          "text": [
            "Reduced to dimension: \n",
            "5\n"
          ]
        },
        {
          "output_type": "display_data",
          "data": {
            "text/plain": [
              "<Figure size 432x288 with 1 Axes>"
            ],
            "image/png": "[encoded data removed]"
          },
          "metadata": {
            "needs_background": "light"
          }
        }
      ]
    },
    {
      "cell_type": "markdown",
      "source": [
        "## Inhomogeneous Kernel PCA"
      ],
      "metadata": {
        "id": "-nYorZL5rDFI"
      }
    },
    {
      "cell_type": "code",
      "source": [
        "q = 2\n",
        "c = 100000\n",
        "K3_first = np.dot(data,data.transpose()) + c\n",
        "K3 = np.power(K3_first, q)\n",
        "# print(K3)\n",
        "\n",
        "id = np.identity(5000)\n",
        "ones = np.ones((5000,5000))\n",
        "ones = ones/5000\n",
        "center_helper = id - ones\n",
        "center_helper3 = np.dot(center_helper,K3)\n",
        "K_hat3 = np.dot(center_helper3,center_helper)\n",
        "E3, C3 = np.linalg.eigh(K_hat3)\n",
        "# print(K_hat3)\n",
        "\n",
        "\n",
        "variances3 = E3 / 5000\n",
        "n = np.sum(variances3)\n",
        "C_unit3 = np.zeros((5000,5000))\n",
        "\n",
        "\n",
        "for i in reversed(range(5000)):\n",
        "  C_unit3[:,i] = (1/math.sqrt(abs(E3[i])))*C3[:,i]\n",
        "count = 0\n",
        "var = 0\n",
        "for i in reversed(range(5000)):\n",
        "  var+=variances3[i]\n",
        "  if var/n >= .95:\n",
        "    count+=1\n",
        "    break\n",
        "  count+=1\n",
        "print(\"Reduced to dimension: \")\n",
        "print(count)\n",
        "\n",
        "new_basis3 = np.zeros((5000,2))\n",
        "new_basis3[:,0] = C_unit3[:,4999]\n",
        "new_basis3[:,1] = C_unit3[:,4998]\n",
        "\n",
        "# print(new_basis3)\n",
        "\n",
        "\n",
        "\n",
        "a3 = np.dot(K_hat3,new_basis3)\n",
        "\n",
        "plt.scatter(a3[:,0],a3[:,1])\n",
        "plt.title(\"Quadratic Inhomogeneous Kernel\")\n",
        "plt.show()"
      ],
      "metadata": {
        "colab": {
          "base_uri": "https://localhost:8080/",
          "height": 329
        },
        "id": "UR8yxXnItzIz",
        "outputId": "cc82d1cf-6587-4a5a-a0c4-e650191b489d"
      },
      "execution_count": 8,
      "outputs": [
        {
          "output_type": "stream",
          "name": "stdout",
          "text": [
            "Reduced to dimension: \n",
            "1\n"
          ]
        },
        {
          "output_type": "display_data",
          "data": {
            "text/plain": [
              "<Figure size 432x288 with 1 Axes>"
            ],
            "image/png": "[encoded data removed]"
          },
          "metadata": {
            "needs_background": "light"
          }
        }
      ]
    },
    {
      "cell_type": "markdown",
      "source": [
        "The best 2D approximation would be the quadratic inhomogeneous kernel since the data is the most spread out in their specific direction using this kernel PCA. This means that we have maximized the variance the  most using this model."
      ],
      "metadata": {
        "id": "jQL8LnoU1zhM"
      }
    }
  ]
}