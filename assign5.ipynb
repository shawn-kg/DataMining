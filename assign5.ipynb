{
  "nbformat": 4,
  "nbformat_minor": 0,
  "metadata": {
    "colab": {
      "provenance": [],
      "collapsed_sections": [],
      "authorship_tag": "ABX9TyNSmO3I6zxlYWSu22/ucUYl",
      "include_colab_link": true
    },
    "kernelspec": {
      "name": "python3",
      "display_name": "Python 3"
    },
    "language_info": {
      "name": "python"
    }
  },
  "cells": [
    {
      "cell_type": "markdown",
      "metadata": {
        "id": "view-in-github",
        "colab_type": "text"
      },
      "source": [
        "<a href=\"https://colab.research.google.com/github/shawn-kg/DataMining/blob/main/assign5.ipynb\" target=\"_parent\"><img src=\"https://colab.research.google.com/assets/colab-badge.svg\" alt=\"Open In Colab\"/></a>"
      ]
    },
    {
      "cell_type": "markdown",
      "source": [
        "#Data Preprocessing"
      ],
      "metadata": {
        "id": "u7E49SEw7KdI"
      }
    },
    {
      "cell_type": "code",
      "execution_count": 78,
      "metadata": {
        "colab": {
          "base_uri": "https://localhost:8080/"
        },
        "id": "kFuTk1a06hZ0",
        "outputId": "add70853-6418-404e-8942-df6a3474bbb3"
      },
      "outputs": [
        {
          "output_type": "stream",
          "name": "stdout",
          "text": [
            "Train\n",
            "[[ 0.7240996   1.06244462 -0.05217198 ... -0.23790414  0.82455503\n",
            "  -0.67891922]\n",
            " [-0.69942517 -0.04158213 -0.14059905 ... -0.23790414  0.82455503\n",
            "  -0.67891922]\n",
            " [-0.69942517 -0.62594004  0.12468218 ... -0.23790414  0.82455503\n",
            "  -0.67891922]\n",
            " ...\n",
            " [ 0.24959134  1.78911848  1.09738003 ...  3.56205275 -0.77290887\n",
            "   3.78934244]\n",
            " [ 0.7240996   0.12876575  0.21310926 ... -0.23790414  0.82455503\n",
            "  -0.67891922]\n",
            " [ 1.67311611  0.42633546 -0.05217198 ...  1.47207646 -1.57164083\n",
            "   1.33179853]]\n",
            "Valid\n",
            "[[-0.69942517  0.23226825 -0.31745321 ... -0.23790414  0.82455503\n",
            "  -0.67891922]\n",
            " [-0.22491691  1.05381941  0.8320988  ...  0.52208724 -0.24042091\n",
            "   0.21473311]\n",
            " [ 1.19860785 -0.7790375  -0.31745321 ...  0.23709047 -0.50666489\n",
            "  -0.12038651]\n",
            " ...\n",
            " [-0.22491691 -0.7725686   1.27423419 ... -0.23790414  0.82455503\n",
            "  -0.67891922]\n",
            " [-0.22491691 -0.81785094 -0.67116152 ... -0.23790414  0.82455503\n",
            "  -0.67891922]\n",
            " [-1.17393342  3.01389816  4.01547359 ...  1.6620743   0.82455503\n",
            "   1.55521161]]\n",
            "Test\n",
            "[[ 1.19860785  0.90072195  6.57985884 ... -0.23790414  0.82455503\n",
            "  -0.67891922]\n",
            " [-0.22491691 -0.04373843 -0.67116152 ... -0.71289875  0.82455503\n",
            "  -0.12038651]\n",
            " [ 0.7240996  -0.63240895 -0.7595886  ... -0.23790414  0.82455503\n",
            "  -0.67891922]\n",
            " ...\n",
            " [ 3.09664087 -0.51812493 -0.49430736 ... -0.23790414 -0.06292492\n",
            "  -0.67891922]\n",
            " [-1.17393342 -0.2033048  -0.05217198 ...  0.12098068 -0.89123953\n",
            "  -0.25691673]\n",
            " [ 2.14762436  1.27376224 -0.05217198 ... -0.23790414  0.82455503\n",
            "  -0.67891922]]\n",
            "[ 1. -1.  1. ... -1. -1. -1.]\n"
          ]
        }
      ],
      "source": [
        "import numpy as np\n",
        "import pandas as pd\n",
        "from sklearn.preprocessing import StandardScaler\n",
        "\n",
        "scaler = StandardScaler(with_mean=True, with_std=True)\n",
        "data = pd.read_csv('./OnlineNewsPopularity.csv')\n",
        "\n",
        "data = data.drop(data.columns[[0,1,4,5,6,13,14,15,16,17,18,19,20,21,22,23,24,25,26,27,28,29,30,31,32,33,34,35,36,37,38]], axis=1)\n",
        "# print(data.shape)\n",
        "data = data.to_numpy()\n",
        "\n",
        "np.random.seed(42)\n",
        "np.random.shuffle(data)\n",
        "target = data[:,-1]\n",
        "data = np.delete(data,-1,1)\n",
        "# print(data)\n",
        "train = data[:1000]\n",
        "# print(train)\n",
        "valid = data[1000:2000]\n",
        "# print(valid.shape)\n",
        "test = data[2000:3000]\n",
        "# print(test.shape)\n",
        "train_means = np.mean(train, axis=0)\n",
        "# print(train_means)\n",
        "train_std = np.std(train, axis=0)\n",
        "# scaler.fit(train)\n",
        "# train = scaler.transform(train)\n",
        "# print(train_std)\n",
        "for i in range(1000):\n",
        "  for j in range(29):\n",
        "    train[i][j] = (train[i][j] - train_means[j])/train_std[j]\n",
        "for i in range(1000):\n",
        "  for j in range(29):\n",
        "    valid[i][j] = (valid[i][j] - train_means[j])/train_std[j]\n",
        "for i in range(1000):\n",
        "  for j in range(29):\n",
        "    test[i][j] = (test[i][j] - train_means[j])/train_std[j]\n",
        "# train = np.insert(train,0,np.ones((1000)),axis=1)\n",
        "# valid = np.insert(valid,0,np.ones((1000)),axis=1)\n",
        "# test = np.insert(test,0,np.ones((1000)),axis=1)\n",
        "print(\"Train\")\n",
        "print(train)\n",
        "print(\"Valid\")\n",
        "print(valid)\n",
        "print(\"Test\")\n",
        "print(test)\n",
        "\n",
        "new_target = np.zeros((len(target)))\n",
        "for i in range(len(target)):\n",
        "  if target[i]>6000:\n",
        "    new_target[i] = 6000\n",
        "  else:\n",
        "    new_target[i] = target[i]\n",
        "target_class = np.zeros((len(target)))\n",
        "for i in range(len(target)):\n",
        "  if new_target[i]>=2000:\n",
        "    target_class[i] = 1\n",
        "  else:\n",
        "    target_class[i] = -1\n",
        "print(target_class)\n"
      ]
    },
    {
      "cell_type": "markdown",
      "source": [
        "# SVM"
      ],
      "metadata": {
        "id": "aXI0V4aBiHFc"
      }
    },
    {
      "cell_type": "code",
      "source": [
        "def SVM(K,target_class,epsilon,C):\n",
        "  K_aug = K+1\n",
        "  eta = np.zeros((1000))\n",
        "  for k in range(K_aug.shape[0]):\n",
        "    eta[k] = 1/K_aug[k][k]\n",
        "  alpha = np.random.random_sample((1000))\n",
        "  alpha_prev = np.zeros(1000)\n",
        "  target_train = target_class[:1000]\n",
        "  shuffled = np.array(range(1000))\n",
        "  while(True):\n",
        "    np.random.shuffle(shuffled)\n",
        "    alpha_prev = np.copy(alpha)\n",
        "    for k in shuffled:\n",
        "      alpha[k] += eta[k]*(1 - target_train[k]* np.sum(alpha*target_train*K_aug[:,k]))\n",
        "      if alpha[k]<0:\n",
        "        alpha[k] = 0\n",
        "      if alpha[k] > C:\n",
        "        alpha[k] = C\n",
        "    if (np.linalg.norm(alpha -alpha_prev)<=epsilon):\n",
        "      break\n",
        "  return alpha\n",
        "\n",
        "def acc(target_class, lin_Kernel, alpha):\n",
        "  lin_KernelSum = np.sum(lin_Kernel, axis=0)\n",
        "  predicted = alpha*lin_KernelSum*target_class\n",
        "\n",
        "  for i in range(1000):\n",
        "    if predicted[i]>=0:\n",
        "      predicted[i] = 1\n",
        "    else:\n",
        "      predicted[i] = -1\n",
        "\n",
        "  correct = 0\n",
        "  for i in range(1000):\n",
        "    if predicted[i] == target_class[i]:\n",
        "      correct+=1\n",
        "  acc = correct/1000\n",
        "  return acc\n"
      ],
      "metadata": {
        "id": "D2elm6lz8Pm3"
      },
      "execution_count": 79,
      "outputs": []
    },
    {
      "cell_type": "markdown",
      "source": [
        "##Linear"
      ],
      "metadata": {
        "id": "lFLag-7l6Wck"
      }
    },
    {
      "cell_type": "code",
      "source": [
        "K = np.dot(train, train.transpose())\n",
        "epsilon = 0.1\n",
        "C = .1\n",
        "alpha = SVM(K,target_class, epsilon, C)\n",
        "lin_Kernel = np.dot(train,valid.transpose())+1\n",
        "valid_acc = acc(target_class[1000:2000], lin_Kernel, alpha)\n",
        "print(\"Valid Accuracy: \", valid_acc)\n",
        "lin_Kernel = np.dot(train,test.transpose())+1\n",
        "test_acc = acc(target_class[2000:3000], lin_Kernel, alpha)\n",
        "print(\"Test Accuracy: \", test_acc)\n",
        "print(\"Epsilon: \", epsilon)\n",
        "print(\"C: \", C)"
      ],
      "metadata": {
        "colab": {
          "base_uri": "https://localhost:8080/"
        },
        "id": "3B11yhBwiTm4",
        "outputId": "da3915e5-5714-4b4a-dce9-7a0957aba1d4"
      },
      "execution_count": 80,
      "outputs": [
        {
          "output_type": "stream",
          "name": "stdout",
          "text": [
            "Valid Accuracy:  0.936\n",
            "Test Accuracy:  0.937\n",
            "Epsilon:  0.1\n",
            "C:  0.1\n"
          ]
        }
      ]
    },
    {
      "cell_type": "markdown",
      "source": [
        "## Gaussian"
      ],
      "metadata": {
        "id": "UKoKubxA_RGY"
      }
    },
    {
      "cell_type": "code",
      "source": [
        "def gaussian(matrix1, matrix2, spread):\n",
        "  S = np.linalg.norm(matrix1, axis=1)**2\n",
        "  R = np.linalg.norm(matrix2, axis=1)**2\n",
        "  S = S.reshape(-1,1)\n",
        "  R = R.reshape(1,-1)\n",
        "  K = np.exp((2 * np.dot(matrix1,np.transpose(matrix2)) - S - R)/(2*spread))\n",
        "  return K\n",
        "epsilon = 0.1\n",
        "C = 0.1\n",
        "spread = 10000\n",
        "GauK = gaussian(train,train,spread)\n",
        "alpha = SVM(GauK, target_class, epsilon, C)\n",
        "validGauK = gaussian(train,valid,10000)\n",
        "valid_acc = acc(target_class[1000:2000], validGauK, alpha)\n",
        "print(\"Valid Accuracy: \", valid_acc)\n",
        "testGauK = gaussian(train,test,10000)\n",
        "test_acc = acc(target_class[2000:3000], testGauK, alpha)\n",
        "print(\"Test Accuracy: \", test_acc)\n",
        "print(\"Epsilon: \", epsilon)\n",
        "print(\"C: \", C)\n",
        "print(\"Spread: \", spread)"
      ],
      "metadata": {
        "colab": {
          "base_uri": "https://localhost:8080/"
        },
        "id": "bR-SawD4_ZkX",
        "outputId": "3e5e4eee-1d0a-4ee8-a6fb-d3d40ebd992e"
      },
      "execution_count": 81,
      "outputs": [
        {
          "output_type": "stream",
          "name": "stdout",
          "text": [
            "Valid Accuracy:  0.942\n",
            "Test Accuracy:  0.953\n",
            "Epsilon:  0.1\n",
            "C:  0.1\n",
            "Spread:  10000\n"
          ]
        }
      ]
    },
    {
      "cell_type": "markdown",
      "source": [
        "##Inhomogeneous Polynomial Kernel"
      ],
      "metadata": {
        "id": "h3ssprR3_UQu"
      }
    },
    {
      "cell_type": "code",
      "source": [
        "def inPolyKernel(q,c,matrix1,matrix2):\n",
        "  K_first = np.dot(matrix1,matrix2.transpose()) + c\n",
        "  K = np.power(K_first, q)\n",
        "  return K\n",
        "q = 2\n",
        "c = 100000\n",
        "K = inPolyKernel(q,c,train,train)\n",
        "epsilon = 0.1\n",
        "C = 0.1\n",
        "alpha = SVM(K, target_class, epsilon, C)\n",
        "validK = inPolyKernel(q,c,train,valid)\n",
        "valid_acc = acc(target_class[1000:2000], validK, alpha)\n",
        "print(\"Valid Accuracy: \", valid_acc)\n",
        "testK = inPolyKernel(q,c,train,test)\n",
        "test_acc = acc(target_class[2000:3000], testK, alpha)\n",
        "print(\"Test Accuracy: \", test_acc)\n",
        "print(\"Epsilon: \", epsilon)\n",
        "print(\"C: \", C)\n"
      ],
      "metadata": {
        "colab": {
          "base_uri": "https://localhost:8080/"
        },
        "id": "DGctS97d_aUY",
        "outputId": "96f958d4-733d-4303-b35a-872363279d1d"
      },
      "execution_count": 82,
      "outputs": [
        {
          "output_type": "stream",
          "name": "stdout",
          "text": [
            "Valid Accuracy:  0.818\n",
            "Test Accuracy:  0.817\n",
            "Epsilon:  0.1\n",
            "C:  0.1\n"
          ]
        }
      ]
    },
    {
      "cell_type": "markdown",
      "source": [
        "# Exam 1 Questions"
      ],
      "metadata": {
        "id": "xpeWQ7U8iUFn"
      }
    },
    {
      "cell_type": "markdown",
      "source": [
        "##Question 5"
      ],
      "metadata": {
        "id": "ED963Tm6Da1m"
      }
    },
    {
      "cell_type": "code",
      "source": [
        "import pandas as pd\n",
        "import numpy as np\n",
        "import math\n",
        "\n",
        "data = np.loadtxt('./seeds_dataset.txt', dtype = float)\n",
        "data = np.delete(data,7,1)\n",
        "# print(data)\n",
        "# print(data.shape)\n",
        "\n",
        "K = np.dot(data,data.transpose())\n",
        "K = np.power(K,2)\n",
        "\n",
        "id = np.identity(210)\n",
        "ones = np.ones((210,210))\n",
        "ones = ones/210\n",
        "center_helper = id - ones\n",
        "center_helperi = np.dot(center_helper,K)\n",
        "K_hat = np.dot(center_helperi,center_helper)\n",
        "E, C = np.linalg.eigh(K_hat)\n",
        "\n",
        "variances = E / 210\n",
        "n = np.sum(variances)\n",
        "C_unit = np.zeros((210,210))\n",
        "\n",
        "for i in reversed(range(210)):\n",
        "  C_unit[:,i] = (1/math.sqrt(abs(E[i])))*C[:,i]\n",
        "\n",
        "phi = np.zeros((210,28))\n",
        "count = 0\n",
        "for i in range(7):\n",
        "  for j in range(i,7):\n",
        "    phi[:,count] = data[:,i]*data[:,j]\n",
        "    if i!=j:\n",
        "      phi[:,count]*=math.sqrt(2)\n",
        "    count+=1\n",
        "print(phi)\n",
        "\n",
        "ui = np.zeros(28)\n",
        "for i in (range(210)):\n",
        "  ui+= C_unit[i][209]*phi[i]\n",
        "print(\"Unit Vector:\", ui)\n"
      ],
      "metadata": {
        "colab": {
          "base_uri": "https://localhost:8080/"
        },
        "id": "UZDgCDhziWq5",
        "outputId": "b30f4e21-c004-4dc0-98e9-2ad74fc1cd90"
      },
      "execution_count": 85,
      "outputs": [
        {
          "output_type": "stream",
          "name": "stdout",
          "text": [
            "[[232.8676     320.26054059  18.796963   ...   4.932841    16.39585464\n",
            "   27.2484    ]\n",
            " [221.4144     306.60376306  18.54142592 ...   1.036324     7.13500158\n",
            "   24.561936  ]\n",
            " [204.2041     284.74638535  18.28924618 ...   7.284601    18.4168436\n",
            "   23.280625  ]\n",
            " ...\n",
            " [174.24       254.99967586  16.58244598 ...  69.139225    59.45444326\n",
            "   25.563136  ]\n",
            " [140.1856     221.19205212  14.2678083  ...  12.945604    25.66558896\n",
            "   25.441936  ]\n",
            " [151.29       232.04698974  15.10566761 ...  31.775769    40.36184033\n",
            "   25.633969  ]]\n",
            "Unit Vector: [-6.14781397e-01 -6.10913284e-01 -2.62906997e-02 -2.24972040e-01\n",
            " -1.46798782e-01 -7.15891808e-02 -2.22498680e-01 -2.63633966e-01\n",
            " -1.27865332e-02 -1.33307258e-01 -9.32728109e-02 -1.05458329e-02\n",
            " -1.33124652e-01 -1.55487710e-04 -4.30815137e-03 -3.43997711e-03\n",
            "  1.79866636e-03 -4.39761953e-03 -3.34874838e-02 -3.36473658e-02\n",
            " -8.82792529e-04 -4.73779638e-02 -1.63031868e-02 -5.28717940e-03\n",
            " -3.35283471e-02  1.68706633e-02 -1.29344015e-03 -3.34370238e-02]\n"
          ]
        }
      ]
    },
    {
      "cell_type": "markdown",
      "source": [
        "##Question 8"
      ],
      "metadata": {
        "id": "DJPZWXGHDeCY"
      }
    },
    {
      "cell_type": "code",
      "source": [
        "Ev1v2 = 0*(1/4) + 0*(1/4) + 0*(1/4) + 1*(1/4)\n",
        "Ev1v1 = 0*(1/2) + 1*(1/2)\n",
        "Ev2v2 = 0*(1/2) + 1*(1/2)\n",
        "costheta = Ev1v2/(math.sqrt(Ev1v1)*math.sqrt(Ev2v2))\n",
        "print(costheta)\n",
        "angle = math.acos(costheta)\n",
        "angle *= (180/math.pi)\n",
        "print(angle,'degrees')"
      ],
      "metadata": {
        "colab": {
          "base_uri": "https://localhost:8080/"
        },
        "id": "j9K98ZLiDfha",
        "outputId": "3eea86d3-b9c0-42e2-9841-9f4ca47fc526"
      },
      "execution_count": 84,
      "outputs": [
        {
          "output_type": "stream",
          "name": "stdout",
          "text": [
            "0.4999999999999999\n",
            "60.00000000000001 degrees\n"
          ]
        }
      ]
    }
  ]
}