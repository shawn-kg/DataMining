{
  "nbformat": 4,
  "nbformat_minor": 0,
  "metadata": {
    "colab": {
      "provenance": [],
      "authorship_tag": "ABX9TyNYIquyUpV+PpeI0rYMmb3B",
      "include_colab_link": true
    },
    "kernelspec": {
      "name": "python3",
      "display_name": "Python 3"
    },
    "language_info": {
      "name": "python"
    }
  },
  "cells": [
    {
      "cell_type": "markdown",
      "metadata": {
        "id": "view-in-github",
        "colab_type": "text"
      },
      "source": [
        "<a href=\"https://colab.research.google.com/github/shawn-kg/DataMining/blob/main/assign6.ipynb\" target=\"_parent\"><img src=\"https://colab.research.google.com/assets/colab-badge.svg\" alt=\"Open In Colab\"/></a>"
      ]
    },
    {
      "cell_type": "markdown",
      "source": [
        "#Data Preprocessing"
      ],
      "metadata": {
        "id": "NJ5XaPscMj5a"
      }
    },
    {
      "cell_type": "code",
      "execution_count": 1,
      "metadata": {
        "id": "zFEewsuYqZ5f"
      },
      "outputs": [],
      "source": [
        "import numpy as np\n",
        "import pandas as pd\n",
        "\n",
        "np.random.seed(42)\n",
        "\n",
        "train_data = pd.read_csv('./fashion-mnist_train.csv')\n",
        "test_data = pd.read_csv('./fashion-mnist_test.csv')\n",
        "\n",
        "train_data = train_data.to_numpy()\n",
        "test_data = test_data.to_numpy()\n",
        "np.random.shuffle(train_data)\n",
        "np.random.shuffle(test_data)\n",
        "\n",
        "train_data = train_data[:10000]\n",
        "test_data = test_data[:5000]\n",
        "\n",
        "train_target = np.copy(train_data[:,0])\n",
        "test_target = np.copy(test_data[:,0])"
      ]
    },
    {
      "cell_type": "code",
      "source": [
        "train_data = np.delete(train_data,0,1)\n",
        "test_data = np.delete(test_data,0,1)\n",
        "\n",
        "train_data = np.insert(train_data,0,np.ones((train_data.shape[0])),axis=1)\n",
        "test_data = np.insert(test_data, 0, np.ones((test_data.shape[0])), axis=1)\n",
        "\n",
        "train_targetk = np.zeros((train_data.shape[0],10))\n",
        "test_targetk = np.zeros((test_data.shape[0],10))\n",
        "# don't forget to transpose your targets\n",
        "\n",
        "for i in range(train_target.shape[0]): \n",
        "  train_targetk[i][train_target[i]] = 1;\n",
        "\n",
        "for i in range(test_target.shape[0]):\n",
        "  test_targetk[i][test_target[i]] = 1;\n"
      ],
      "metadata": {
        "id": "Crcm78DVOsSG"
      },
      "execution_count": 2,
      "outputs": []
    },
    {
      "cell_type": "markdown",
      "source": [
        "#Logistic Regression"
      ],
      "metadata": {
        "id": "_d75pNkL9TXM"
      }
    },
    {
      "cell_type": "code",
      "source": [
        "import scipy.special\n",
        "\n",
        "\n",
        "W = np.zeros((10,785))\n",
        "\n",
        "\n",
        "for i in range(50):\n",
        "  W_prev = np.copy(W)\n",
        "  shuffled = np.array(range(train_data.shape[0]))\n",
        "  np.random.shuffle(shuffled)\n",
        "  for x in (shuffled):\n",
        "    theta = np.dot(W,train_data[x])\n",
        "    softm = scipy.special.softmax(theta)\n",
        "    for j in range(9):\n",
        "      grad = (train_targetk[x][j]-softm[j])*train_data[x]\n",
        "      W[j]+= .000001*grad\n",
        "  normSum = 0\n",
        "  for z in range(9):\n",
        "    normSum += np.linalg.norm(W[z]-W_prev[z])\n",
        "  if normSum <= 0.01:\n",
        "    break\n",
        "\n",
        "print(\"Weight Vectors: \")\n",
        "print(W)\n",
        "\n",
        "y_predict = np.zeros((5000))\n",
        "for i in range(5000):\n",
        "  theta = np.dot(W,test_data[i])\n",
        "  softm = scipy.special.softmax(theta)\n",
        "  ind = np.argmax(softm)\n",
        "  y_predict[i] = ind\n",
        "\n",
        "count = 0\n",
        "correct_classes = np.zeros((10))\n",
        "num_points_class_predicted = np.zeros((10))\n",
        "points_in_class = np.zeros((10))\n",
        "Fi = np.zeros((10))\n",
        "for i in range(y_predict.shape[0]):\n",
        "  num_points_class_predicted[int(y_predict[i])]+=1\n",
        "  points_in_class[int(test_target[i])]+=1\n",
        "  if y_predict[i] == test_target[i]:\n",
        "    correct_classes[int(y_predict[i])]+=1\n",
        "    count+=1\n",
        "prec_classes = np.zeros((10))\n",
        "recall_classes = np.zeros((10))\n",
        "\n",
        "for i in range(10):\n",
        "  prec_classes[i] = correct_classes[i]/num_points_class_predicted[i]\n",
        "  recall_classes[i] = correct_classes[i]/points_in_class[i]\n",
        "\n",
        "for j in range(10):\n",
        "  Fi[j] = (2*prec_classes[j]*recall_classes[j])/(prec_classes[i] + recall_classes[i])\n",
        "\n",
        "F = np.sum(Fi)/10\n",
        "\n",
        "acc = count/5000\n",
        "print(\"Accuracy:\")\n",
        "print(acc)\n",
        "print(\"F-Value\")\n",
        "print(F)\n",
        "\n"
      ],
      "metadata": {
        "colab": {
          "base_uri": "https://localhost:8080/"
        },
        "id": "n__R84xiijg6",
        "outputId": "1f9e71a1-cbc1-433d-84d2-defe2249d3cf"
      },
      "execution_count": 3,
      "outputs": [
        {
          "output_type": "stream",
          "name": "stdout",
          "text": [
            "Weight Vectors: \n",
            "[[ 9.48804979e-05 -3.38837054e-05 -1.57877368e-04 ... -1.74744056e-03\n",
            "  -4.19484783e-03 -8.03792217e-04]\n",
            " [-2.63122294e-04 -2.99464870e-11 -3.14339066e-06 ...  4.66034853e-05\n",
            "   3.52609720e-04 -1.75237404e-05]\n",
            " [ 3.17736358e-05 -3.98502471e-06  1.76146570e-04 ...  2.31978760e-02\n",
            "   1.01638355e-02  1.01404475e-03]\n",
            " ...\n",
            " [-1.53708788e-04 -8.54994763e-14 -1.87996936e-08 ...  1.69089971e-03\n",
            "   1.37097665e-03 -4.58872680e-05]\n",
            " [-3.43823008e-04 -7.75529442e-05 -5.11501897e-05 ... -7.13019733e-03\n",
            "  -4.42136120e-03 -8.18517696e-04]\n",
            " [ 0.00000000e+00  0.00000000e+00  0.00000000e+00 ...  0.00000000e+00\n",
            "   0.00000000e+00  0.00000000e+00]]\n",
            "Accuracy:\n",
            "0.7966\n",
            "F-Value\n",
            "0.7440924861571845\n"
          ]
        }
      ]
    }
  ]
}